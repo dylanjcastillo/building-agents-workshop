{
 "cells": [
  {
   "cell_type": "code",
   "execution_count": null,
   "metadata": {},
   "outputs": [],
   "source": [
    "%load_ext autoreload\n",
    "%autoreload 2"
   ]
  },
  {
   "cell_type": "code",
   "execution_count": null,
   "metadata": {},
   "outputs": [],
   "source": [
    "import nest_asyncio\n",
    "\n",
    "nest_asyncio.apply()"
   ]
  },
  {
   "cell_type": "markdown",
   "metadata": {},
   "source": [
    "## Imports"
   ]
  },
  {
   "cell_type": "code",
   "execution_count": null,
   "metadata": {},
   "outputs": [],
   "source": [
    "from dotenv import load_dotenv\n",
    "from langsmith import Client\n",
    "from langchain_openai import ChatOpenAI\n",
    "from datasets import load_dataset\n",
    "\n",
    "load_dotenv()"
   ]
  },
  {
   "cell_type": "markdown",
   "metadata": {},
   "source": [
    "## Creating evaluation dataset"
   ]
  },
  {
   "cell_type": "code",
   "execution_count": null,
   "metadata": {},
   "outputs": [],
   "source": [
    "ds = load_dataset(\"AI-MO/aimo-validation-aime\")\n",
    "examples = [\n",
    "    {\"inputs\": {\"question\": d[\"problem\"]}, \"outputs\": {\"answer\": int(d[\"answer\"])}}\n",
    "    for d in ds[\"train\"]\n",
    "][:15]"
   ]
  },
  {
   "cell_type": "code",
   "execution_count": null,
   "metadata": {},
   "outputs": [],
   "source": [
    "client = Client()\n",
    "\n",
    "dataset_name = \"AIME Example Dataset (sample)\"\n",
    "\n",
    "try:\n",
    "    dataset = client.create_dataset(dataset_name)\n",
    "    client.create_examples(dataset_id=dataset.id, examples=examples)\n",
    "except Exception as e:\n",
    "    print(e)"
   ]
  },
  {
   "cell_type": "code",
   "execution_count": null,
   "metadata": {},
   "outputs": [],
   "source": [
    "from langchain_core.messages import HumanMessage, SystemMessage\n",
    "\n",
    "from pydantic import BaseModel, Field\n",
    "\n",
    "\n",
    "class Response(BaseModel):\n",
    "    explanation: str = Field(description=\"The explanation of the answer\")\n",
    "    answer: int = Field(\n",
    "        description=\"The answer to the question. It should be an integer.\"\n",
    "    )\n",
    "\n",
    "\n",
    "model = ChatOpenAI(model=\"gpt-4.1-mini\", temperature=0)\n",
    "model_with_structure = model.with_structured_output(Response, method=\"function_calling\")\n",
    "\n",
    "\n",
    "def get_response(question: str) -> Response:\n",
    "    max_retries = 3\n",
    "    for _ in range(max_retries):\n",
    "        try:\n",
    "            messages = [\n",
    "                SystemMessage(\n",
    "                    \"You're a math expert. You will always respond in a JSON format with the following fields: explanation and answer.\"\n",
    "                ),\n",
    "                HumanMessage(question),\n",
    "            ]\n",
    "            response = model_with_structure.invoke(messages)\n",
    "            return response\n",
    "        except Exception as e:\n",
    "            print(f\"Error: {e}\")\n",
    "            continue\n",
    "    raise ValueError(\"Failed to get a valid response\")"
   ]
  },
  {
   "cell_type": "code",
   "execution_count": null,
   "metadata": {},
   "outputs": [],
   "source": [
    "def ls_wrapper(inputs: str) -> dict:\n",
    "    response = get_response(inputs[\"question\"])\n",
    "    return response.model_dump()"
   ]
  },
  {
   "cell_type": "code",
   "execution_count": null,
   "metadata": {},
   "outputs": [],
   "source": [
    "def accuracy(inputs: dict, outputs: dict, reference_outputs: dict) -> bool:\n",
    "    return outputs[\"answer\"] == reference_outputs[\"answer\"]"
   ]
  },
  {
   "cell_type": "code",
   "execution_count": null,
   "metadata": {},
   "outputs": [],
   "source": [
    "# experiment_results = client.evaluate(\n",
    "#     ls_wrapper, data=dataset_name, evaluators=[correctness], max_concurrency=15\n",
    "# )"
   ]
  },
  {
   "cell_type": "markdown",
   "metadata": {},
   "source": [
    "# Exercise\n",
    "\n",
    "Create an LLM judge that evaluates the clarity of the explanation of the answer"
   ]
  },
  {
   "cell_type": "code",
   "execution_count": null,
   "metadata": {},
   "outputs": [],
   "source": [
    "ds = load_dataset(\"ChilleD/LastLetterConcat\")\n",
    "examples = [\n",
    "    {\"inputs\": {\"question\": d[\"question\"]}, \"outputs\": {\"answer\": d[\"answer\"]}}\n",
    "    for d in ds[\"train\"]\n",
    "][:20]"
   ]
  }
 ],
 "metadata": {
  "kernelspec": {
   "display_name": ".venv",
   "language": "python",
   "name": "python3"
  },
  "language_info": {
   "codemirror_mode": {
    "name": "ipython",
    "version": 3
   },
   "file_extension": ".py",
   "mimetype": "text/x-python",
   "name": "python",
   "nbconvert_exporter": "python",
   "pygments_lexer": "ipython3",
   "version": "3.13.2"
  }
 },
 "nbformat": 4,
 "nbformat_minor": 2
}
