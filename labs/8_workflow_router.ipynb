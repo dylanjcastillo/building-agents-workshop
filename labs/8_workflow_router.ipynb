{
 "cells": [
  {
   "cell_type": "code",
   "execution_count": null,
   "metadata": {},
   "outputs": [],
   "source": [
    "%load_ext autoreload\n",
    "%autoreload 2"
   ]
  },
  {
   "cell_type": "code",
   "execution_count": null,
   "metadata": {},
   "outputs": [],
   "source": [
    "import nest_asyncio\n",
    "\n",
    "nest_asyncio.apply()"
   ]
  },
  {
   "cell_type": "markdown",
   "metadata": {},
   "source": [
    "# Imports"
   ]
  },
  {
   "cell_type": "code",
   "execution_count": null,
   "metadata": {},
   "outputs": [],
   "source": [
    "from typing import Optional\n",
    "\n",
    "from dotenv import load_dotenv\n",
    "from langchain_openai import ChatOpenAI\n",
    "from langsmith import traceable\n",
    "from IPython.display import Image, display\n",
    "from langgraph.graph import END, START, StateGraph\n",
    "from typing_extensions import TypedDict\n",
    "from typing import Literal\n",
    "\n",
    "from langchain_core.messages import HumanMessage, SystemMessage\n",
    "from pydantic import BaseModel\n",
    "\n",
    "\n",
    "load_dotenv()"
   ]
  },
  {
   "cell_type": "markdown",
   "metadata": {},
   "source": [
    "# Vanilla workflow"
   ]
  },
  {
   "cell_type": "code",
   "execution_count": null,
   "metadata": {},
   "outputs": [],
   "source": [
    "class State(BaseModel):\n",
    "    input: str\n",
    "    type: Optional[\n",
    "        Literal[\"write_article\", \"generate_table_of_contents\", \"review_article\"]\n",
    "    ] = None\n",
    "    output: Optional[str] = None\n",
    "\n",
    "\n",
    "class MessageType(BaseModel):\n",
    "    type: Literal[\"write_article\", \"generate_table_of_contents\", \"review_article\"]\n",
    "\n",
    "\n",
    "model = ChatOpenAI(model=\"gpt-4.1-mini\")\n",
    "\n",
    "\n",
    "def classify_message(state: State) -> State:\n",
    "    model_with_str_output = model.with_structured_output(MessageType)\n",
    "    messages = [\n",
    "        SystemMessage(\n",
    "            content=\"You are a writer. You will classify the message into one of the following categories: 'write_article', 'generate_table_of_contents', 'review_article'.\"\n",
    "        ),\n",
    "        HumanMessage(content=f\"Classify the message: {state.input}\"),\n",
    "    ]\n",
    "    return model_with_str_output.invoke(messages).type\n",
    "\n",
    "\n",
    "@traceable\n",
    "def write_article(state: State) -> State:\n",
    "    messages = [\n",
    "        SystemMessage(\n",
    "            content=\"You are a writer. You will write an article about the topic provided.\"\n",
    "        ),\n",
    "        HumanMessage(content=f\"Write an article about {state.input}\"),\n",
    "    ]\n",
    "    return model.invoke(messages).content\n",
    "\n",
    "\n",
    "@traceable\n",
    "def generate_table_of_contents(state: State) -> State:\n",
    "    messages = [\n",
    "        SystemMessage(\n",
    "            content=\"You are a writer. You will generate a table of contents for an article about the topic provided.\"\n",
    "        ),\n",
    "        HumanMessage(\n",
    "            content=f\"Generate a table of contents for an article about {state.input}\"\n",
    "        ),\n",
    "    ]\n",
    "    return model.invoke(messages).content\n",
    "\n",
    "\n",
    "@traceable\n",
    "def review_article(state: State) -> State:\n",
    "    messages = [\n",
    "        SystemMessage(\n",
    "            content=\"You are a writer. You will review the article for the topic provided.\"\n",
    "        ),\n",
    "        HumanMessage(content=f\"Review the article for the topic {state.input}\"),\n",
    "    ]\n",
    "    return model.invoke(messages).content\n",
    "\n",
    "\n",
    "@traceable\n",
    "def writer_chatbot(message: str) -> str:\n",
    "    state = State(input=message)\n",
    "    state.type = classify_message(state)\n",
    "    if state.type == \"write_article\":\n",
    "        return write_article(state)\n",
    "    elif state.type == \"generate_table_of_contents\":\n",
    "        return generate_table_of_contents(state)\n",
    "    elif state.type == \"review_article\":\n",
    "        return review_article(state)\n",
    "    else:\n",
    "        return \"I'm sorry, I don't know how to handle that message.\"\n",
    "\n",
    "\n",
    "writer_chatbot(\"Give me a table of contents for an article about Novak Djokovic\")"
   ]
  },
  {
   "cell_type": "markdown",
   "metadata": {},
   "source": [
    "# LangGraph implementation"
   ]
  },
  {
   "cell_type": "markdown",
   "metadata": {},
   "source": [
    "## Exercise\n",
    "Implement a LangGraph workflow that routes messages to the correct node."
   ]
  }
 ],
 "metadata": {
  "kernelspec": {
   "display_name": ".venv",
   "language": "python",
   "name": "python3"
  },
  "language_info": {
   "codemirror_mode": {
    "name": "ipython",
    "version": 3
   },
   "file_extension": ".py",
   "mimetype": "text/x-python",
   "name": "python",
   "nbconvert_exporter": "python",
   "pygments_lexer": "ipython3",
   "version": "3.13.2"
  }
 },
 "nbformat": 4,
 "nbformat_minor": 2
}
