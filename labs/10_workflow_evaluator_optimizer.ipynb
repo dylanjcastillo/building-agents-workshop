{
 "cells": [
  {
   "cell_type": "code",
   "execution_count": null,
   "metadata": {},
   "outputs": [],
   "source": [
    "%load_ext autoreload\n",
    "%autoreload 2"
   ]
  },
  {
   "cell_type": "code",
   "execution_count": null,
   "metadata": {},
   "outputs": [],
   "source": [
    "import nest_asyncio\n",
    "\n",
    "nest_asyncio.apply()"
   ]
  },
  {
   "cell_type": "markdown",
   "metadata": {},
   "source": [
    "# Imports"
   ]
  },
  {
   "cell_type": "code",
   "execution_count": null,
   "metadata": {},
   "outputs": [],
   "source": [
    "from typing import Optional\n",
    "\n",
    "from dotenv import load_dotenv\n",
    "from IPython.display import Image, display\n",
    "from langchain_core.messages import HumanMessage, SystemMessage\n",
    "from langchain_openai import ChatOpenAI\n",
    "from langgraph.graph import END, START, StateGraph\n",
    "from langsmith import traceable\n",
    "from pydantic import BaseModel, Field\n",
    "from typing_extensions import TypedDict\n",
    "\n",
    "load_dotenv()"
   ]
  },
  {
   "cell_type": "markdown",
   "metadata": {},
   "source": [
    "# Vanilla workflow"
   ]
  },
  {
   "cell_type": "code",
   "execution_count": null,
   "metadata": {},
   "outputs": [],
   "source": [
    "class Evaluation(BaseModel):\n",
    "    explanation: str = Field(\n",
    "        description=\"Explain why the text evaluated matches or not the evaluation criteria\"\n",
    "    )\n",
    "    feedback: str = Field(\n",
    "        description=\"Provide feedback to the writer to improve the text\"\n",
    "    )\n",
    "    is_correct: bool = Field(\n",
    "        description=\"Whether the text evaluated matches or not the evaluation criteria\"\n",
    "    )\n",
    "\n",
    "\n",
    "class State(BaseModel):\n",
    "    topic: str\n",
    "    article: Optional[str] = None\n",
    "    evaluation: Optional[Evaluation] = None\n",
    "\n",
    "\n",
    "model = ChatOpenAI(model=\"gpt-4.1-mini\")\n",
    "\n",
    "\n",
    "@traceable\n",
    "def evaluate_text(state: State) -> Evaluation:\n",
    "    model_with_str_output = model.with_structured_output(Evaluation)\n",
    "    messages = [\n",
    "        SystemMessage(\n",
    "            content=\"You are an expert evaluator. Provided with a text, you will evaluate if it's written in British English and if it's appropriate for a young audience. The text must always use British spelling and grammar. Make sure the text doesn't include any em dash.\"\n",
    "        ),\n",
    "        HumanMessage(content=f\"Evaluate the following text:\\n\\n{state.output}\"),\n",
    "    ]\n",
    "    response = model_with_str_output.invoke(messages)\n",
    "    return response\n",
    "\n",
    "\n",
    "@traceable\n",
    "def fix_text(state: State) -> str:\n",
    "    messages = [\n",
    "        SystemMessage(\n",
    "            content=\"You are an expert writer. Provided with a text, you will fix the text to improve it.\"\n",
    "        ),\n",
    "        HumanMessage(\n",
    "            content=f\"You were tasked with writing an article about {state.topic}. You wrote the following text:\\n\\n{state.article}\\n\\nYou've got the following feedback:\\n\\n{state.evaluation.feedback}\\n\\nFix the text to improve it.\"\n",
    "        ),\n",
    "    ]\n",
    "    response = model.invoke(messages)\n",
    "    return response.content\n",
    "\n",
    "\n",
    "@traceable\n",
    "def generate_text(state: State) -> str:\n",
    "    messages = [\n",
    "        SystemMessage(\n",
    "            content=\"You are an expert writer. Provided with a topic, you will generate an engaging article with less than 500 words.\"\n",
    "        ),\n",
    "        HumanMessage(content=f\"Generate a text about this topic:\\n\\n{state.topic}\"),\n",
    "    ]\n",
    "    response = model.invoke(messages)\n",
    "    return response.content\n",
    "\n",
    "\n",
    "@traceable\n",
    "def generate_text_dispatch(state: State) -> str:\n",
    "    if state.evaluation:\n",
    "        return fix_text(state)\n",
    "    return generate_text(state)\n",
    "\n",
    "\n",
    "@traceable\n",
    "def run_pipeline(topic: str) -> State:\n",
    "    state = State(topic=topic)\n",
    "\n",
    "    for _ in range(4):\n",
    "        state.article = generate_text_dispatch(state)\n",
    "        state.evaluation = evaluate_text(state)\n",
    "        if state.evaluation.is_correct:\n",
    "            return state\n",
    "\n",
    "    return state\n",
    "\n",
    "\n",
    "state = run_pipeline(\"Substance abuse of athletes\")"
   ]
  },
  {
   "cell_type": "markdown",
   "metadata": {},
   "source": [
    "# LangGraph implementation"
   ]
  },
  {
   "cell_type": "markdown",
   "metadata": {},
   "source": [
    "## Exercise:\n",
    "\n",
    "Implement the same workflow with LangGraph"
   ]
  }
 ],
 "metadata": {
  "kernelspec": {
   "display_name": ".venv",
   "language": "python",
   "name": "python3"
  },
  "language_info": {
   "codemirror_mode": {
    "name": "ipython",
    "version": 3
   },
   "file_extension": ".py",
   "mimetype": "text/x-python",
   "name": "python",
   "nbconvert_exporter": "python",
   "pygments_lexer": "ipython3",
   "version": "3.13.2"
  }
 },
 "nbformat": 4,
 "nbformat_minor": 2
}
