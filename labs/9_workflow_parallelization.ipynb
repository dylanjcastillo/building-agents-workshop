{
 "cells": [
  {
   "cell_type": "code",
   "execution_count": null,
   "metadata": {},
   "outputs": [],
   "source": [
    "%load_ext autoreload\n",
    "%autoreload 2"
   ]
  },
  {
   "cell_type": "code",
   "execution_count": null,
   "metadata": {},
   "outputs": [],
   "source": [
    "import nest_asyncio\n",
    "\n",
    "nest_asyncio.apply()"
   ]
  },
  {
   "cell_type": "markdown",
   "metadata": {},
   "source": [
    "# Imports"
   ]
  },
  {
   "cell_type": "code",
   "execution_count": null,
   "metadata": {},
   "outputs": [],
   "source": [
    "import asyncio\n",
    "import operator\n",
    "from typing import Optional\n",
    "\n",
    "from dotenv import load_dotenv\n",
    "from IPython.display import Image, display\n",
    "from langchain_core.messages import HumanMessage, SystemMessage\n",
    "from langchain_openai import ChatOpenAI\n",
    "from langgraph.graph import END, START, StateGraph\n",
    "from langsmith import traceable\n",
    "from pydantic import Field\n",
    "from typing_extensions import Annotated, TypedDict\n",
    "\n",
    "load_dotenv()"
   ]
  },
  {
   "cell_type": "markdown",
   "metadata": {},
   "source": [
    "# Vanilla workflow"
   ]
  },
  {
   "cell_type": "code",
   "execution_count": null,
   "metadata": {},
   "outputs": [],
   "source": [
    "from pydantic import BaseModel\n",
    "\n",
    "\n",
    "class Evaluation(BaseModel):\n",
    "    is_appropiate: bool\n",
    "    explanation: str\n",
    "\n",
    "\n",
    "class AggregatedResults(BaseModel):\n",
    "    is_appropiate: bool\n",
    "    summary: str\n",
    "\n",
    "\n",
    "class State(BaseModel):\n",
    "    input: str\n",
    "    evaluations: Optional[list[Evaluation]] = None\n",
    "    aggregated_results: Optional[AggregatedResults] = None\n",
    "\n",
    "\n",
    "model = ChatOpenAI(model=\"gpt-4.1-mini\")\n",
    "\n",
    "\n",
    "@traceable\n",
    "async def evaluate_text(state: State) -> Evaluation:\n",
    "    model_with_str_output = model.with_structured_output(Evaluation)\n",
    "    messages = [\n",
    "        SystemMessage(\n",
    "            content=\"You are an expert evaluator. Provided with a text, you will evaluate if it's appropriate for a general audience.\"\n",
    "        ),\n",
    "        HumanMessage(content=f\"Evaluate the following text: {state.input}\"),\n",
    "    ]\n",
    "    response = await model_with_str_output.ainvoke(messages)\n",
    "    return response\n",
    "\n",
    "\n",
    "@traceable\n",
    "async def aggregate_results(state: State) -> State:\n",
    "    model_with_str_output = model.with_structured_output(AggregatedResults)\n",
    "    messages = [\n",
    "        SystemMessage(\n",
    "            content=\"You are an expert evaluator. Provided with a list of evaluations, you will summarize them and provide a final evaluation.\"\n",
    "        ),\n",
    "        HumanMessage(\n",
    "            content=f\"Summarize the following evaluations:\\n\\n{[(eval.explanation, eval.is_appropiate) for eval in state.evaluations]}\"\n",
    "        ),\n",
    "    ]\n",
    "    response = await model_with_str_output.ainvoke(messages)\n",
    "    return response\n",
    "\n",
    "\n",
    "@traceable\n",
    "async def run_pipeline(input: str) -> State:\n",
    "    state = State(input=input)\n",
    "\n",
    "    evaluation_tasks = [evaluate_text(state) for _ in range(3)]\n",
    "    state.evaluations = await asyncio.gather(*evaluation_tasks)\n",
    "\n",
    "    aggregated_results = await aggregate_results(state)\n",
    "    state.aggregated_results = aggregated_results\n",
    "    return state\n",
    "\n",
    "\n",
    "state = await run_pipeline(\n",
    "    \"There are athletes that consume enhancing drugs to improve their performance. For example, EPO is a drug that is used to improve performance.\"\n",
    ")\n",
    "\n",
    "print(\"Input:\", state.input)\n",
    "print(\"Individual evaluations:\")\n",
    "for i, eval in enumerate(state.evaluations):\n",
    "    print(f\"  Evaluation {i + 1}: {eval.is_appropiate} - {eval.explanation}\")\n",
    "print(\"Overall appropriate:\", state.aggregated_results.is_appropiate)\n",
    "print(\"Summarized evaluations:\", state.aggregated_results.summary)"
   ]
  },
  {
   "cell_type": "markdown",
   "metadata": {},
   "source": [
    "# LangGraph implementation"
   ]
  },
  {
   "cell_type": "markdown",
   "metadata": {},
   "source": [
    "## Exercise\n",
    "Implement a workflow that evaluates three texts in parallel and aggregates the results."
   ]
  }
 ],
 "metadata": {
  "kernelspec": {
   "display_name": ".venv",
   "language": "python",
   "name": "python3"
  },
  "language_info": {
   "codemirror_mode": {
    "name": "ipython",
    "version": 3
   },
   "file_extension": ".py",
   "mimetype": "text/x-python",
   "name": "python",
   "nbconvert_exporter": "python",
   "pygments_lexer": "ipython3",
   "version": "3.13.2"
  }
 },
 "nbformat": 4,
 "nbformat_minor": 2
}
