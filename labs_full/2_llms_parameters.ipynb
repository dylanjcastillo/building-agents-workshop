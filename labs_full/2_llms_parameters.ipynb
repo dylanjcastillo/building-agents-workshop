{
 "cells": [
  {
   "cell_type": "code",
   "execution_count": null,
   "metadata": {},
   "outputs": [],
   "source": [
    "%load_ext autoreload\n",
    "%autoreload 2"
   ]
  },
  {
   "cell_type": "code",
   "execution_count": null,
   "metadata": {},
   "outputs": [],
   "source": [
    "import openai\n",
    "\n",
    "from dotenv import load_dotenv\n",
    "from textwrap import dedent\n",
    "\n",
    "load_dotenv()\n",
    "\n",
    "client = openai.OpenAI()"
   ]
  },
  {
   "cell_type": "markdown",
   "metadata": {},
   "source": [
    "## Non-reasoning models"
   ]
  },
  {
   "cell_type": "code",
   "execution_count": null,
   "metadata": {},
   "outputs": [],
   "source": [
    "def get_response():\n",
    "    response = client.chat.completions.create(\n",
    "        model=\"gpt-4.1-nano\",\n",
    "        messages=[\n",
    "            {\n",
    "                \"role\": \"developer\",\n",
    "                \"content\": \"You're a Jose a helpful assistant that replies in haikus\",\n",
    "            },\n",
    "            {\"role\": \"user\", \"content\": \"Hello, my name is Dylan. Who are you?\"},\n",
    "        ],\n",
    "        seed=42,\n",
    "        temperature=0.2,\n",
    "    )\n",
    "    return response.choices[0].message.content\n",
    "\n",
    "\n",
    "for i in range(5):\n",
    "    print(get_response())\n",
    "    print()"
   ]
  },
  {
   "cell_type": "markdown",
   "metadata": {},
   "source": [
    "## Reasoning models"
   ]
  },
  {
   "cell_type": "code",
   "execution_count": null,
   "metadata": {},
   "outputs": [],
   "source": [
    "text = \"\"\"\n",
    "The Xbox 360 is a home video game console developed by Microsoft. As the successor to the original Xbox, it is the second console in the Xbox series. It competed with Sony's PlayStation 3 and Nintendo's Wii as part of the seventh generation of video game consoles. It was officially unveiled on MTV on May 12, 2005, with detailed launch and game information announced later that month at the 2005 Electronic Entertainment Expo (E3). This photograph shows the \"Pro\" model from the launch line-up, which featured a 20GB hard drive, wireless controller and a silver DVD bezel. \n",
    "\"\"\"\n",
    "\n",
    "prompt = dedent(f\"\"\"\n",
    "How many times does the word \"the\" (case-insensitive) appear in the following text?\n",
    "\n",
    "Text: {text}\n",
    "\"\"\")\n",
    "\n",
    "response = client.chat.completions.create(\n",
    "    model=\"gpt-4.1-mini\",\n",
    "    messages=[\n",
    "        {\"role\": \"system\", \"content\": \"You are a helpful assistant.\"},\n",
    "        {\"role\": \"user\", \"content\": prompt},\n",
    "    ],\n",
    ")\n",
    "print(response.choices[0].message.content)"
   ]
  },
  {
   "cell_type": "code",
   "execution_count": null,
   "metadata": {},
   "outputs": [],
   "source": [
    "text = \"\"\"\n",
    "The Xbox 360 is a home video game console developed by Microsoft. As the successor to the original Xbox, it is the second console in the Xbox series. It competed with Sony's PlayStation 3 and Nintendo's Wii as part of the seventh generation of video game consoles. It was officially unveiled on MTV on May 12, 2005, with detailed launch and game information announced later that month at the 2005 Electronic Entertainment Expo (E3). This photograph shows the \"Pro\" model from the launch line-up, which featured a 20GB hard drive, wireless controller and a silver DVD bezel. \n",
    "\"\"\"\n",
    "\n",
    "prompt = dedent(f\"\"\"\n",
    "How many times does the word \"the\" (case-insensitive) appear in the following text?\n",
    "\n",
    "Text: {text}\n",
    "\"\"\")\n",
    "\n",
    "response = client.chat.completions.create(\n",
    "    model=\"o4-mini\",\n",
    "    reasoning_effort=\"medium\",\n",
    "    messages=[\n",
    "        {\"role\": \"developer\", \"content\": \"You are a helpful assistant.\"},\n",
    "        {\"role\": \"user\", \"content\": prompt},\n",
    "    ],\n",
    ")\n",
    "print(response.choices[0].message.content)"
   ]
  },
  {
   "cell_type": "markdown",
   "metadata": {},
   "source": [
    "# Exercise: \n",
    "\n",
    "1. Make the assistant reply in another language"
   ]
  },
  {
   "cell_type": "code",
   "execution_count": null,
   "metadata": {},
   "outputs": [],
   "source": [
    "def get_response(query: str):\n",
    "    response = client.chat.completions.create(\n",
    "        model=\"gpt-4.1-nano\",\n",
    "        messages=[\n",
    "            {\n",
    "                \"role\": \"system\",\n",
    "                \"content\": \"You're a helpful assistant. You will always reply in Spanish.\",\n",
    "            },\n",
    "            {\"role\": \"user\", \"content\": query},\n",
    "        ],\n",
    "    )\n",
    "    return response.choices[0].message.content\n",
    "\n",
    "\n",
    "for i in range(5):\n",
    "    print(get_response(\"Hello, how are you?\"))\n",
    "    print()"
   ]
  },
  {
   "cell_type": "markdown",
   "metadata": {},
   "source": [
    "2. Implement Chain-of-thought for non-reasoning model"
   ]
  },
  {
   "cell_type": "code",
   "execution_count": null,
   "metadata": {},
   "outputs": [],
   "source": [
    "text = \"\"\"\n",
    "The Xbox 360 is a home video game console developed by Microsoft. As the successor to the original Xbox, it is the second console in the Xbox series. It competed with Sony's PlayStation 3 and Nintendo's Wii as part of the seventh generation of video game consoles. It was officially unveiled on MTV on May 12, 2005, with detailed launch and game information announced later that month at the 2005 Electronic Entertainment Expo (E3). This photograph shows the \"Pro\" model from the launch line-up, which featured a 20GB hard drive, wireless controller and a silver DVD bezel. \n",
    "\"\"\".strip()\n",
    "\n",
    "system_prompt_cot = dedent(\"\"\"\n",
    "You're a helpful assistant. You will help me count the occurrences of words in texts. To do that, you will detail how you got to the answer step by step and then you will provide your final answer.\n",
    "\n",
    "You will provide your answer following this format:\n",
    "                           \n",
    "REASONING: <reasoning of answer, keeping track of occurrences>\n",
    "ANSWER: <final anwer>\n",
    "\"\"\")\n",
    "\n",
    "prompt_cot = dedent(\"\"\"\n",
    "How many times does the word \"the\" (case-insensitive) appears in the following text?\n",
    "\n",
    "Text: {text}\n",
    "\"\"\")\n",
    "\n",
    "\n",
    "def get_response(text: str):\n",
    "    response = client.chat.completions.create(\n",
    "        model=\"gpt-4.1-mini\",\n",
    "        messages=[\n",
    "            {\"role\": \"system\", \"content\": system_prompt_cot},\n",
    "            {\"role\": \"user\", \"content\": prompt_cot.format(text=text)},\n",
    "        ],\n",
    "        temperature=1,\n",
    "    )\n",
    "    return response.choices[0].message.content\n",
    "\n",
    "\n",
    "response = get_response(text)\n",
    "print(response)"
   ]
  },
  {
   "cell_type": "markdown",
   "metadata": {},
   "source": [
    "3. Asked with a Yes/No question make the model only return only \"Yes\" or \"No\", and get the probability of each"
   ]
  },
  {
   "cell_type": "code",
   "execution_count": null,
   "metadata": {},
   "outputs": [],
   "source": [
    "import tiktoken\n",
    "\n",
    "encoding = tiktoken.encoding_for_model(\"gpt-4o-mini\")\n",
    "encoding.encode(\"Hello, world!\")"
   ]
  },
  {
   "cell_type": "code",
   "execution_count": null,
   "metadata": {},
   "outputs": [],
   "source": [
    "encoding.encode(\"Yes\"), encoding.encode(\"No\")"
   ]
  },
  {
   "cell_type": "code",
   "execution_count": null,
   "metadata": {},
   "outputs": [],
   "source": [
    "prompt = dedent(\"\"\"\n",
    "You're an expert evaluator of texts. You will compare two texts and tell if they are similar or not. You will only provide your answer as \"Yes\" or \"No\".\n",
    "\"\"\")\n",
    "\n",
    "\n",
    "def get_response(text_1: str, text_2: str):\n",
    "    response = client.chat.completions.create(\n",
    "        model=\"gpt-4.1-mini\",\n",
    "        messages=[\n",
    "            {\"role\": \"system\", \"content\": prompt},\n",
    "            {\"role\": \"user\", \"content\": f\"Text 1: {text_1}\\nText 2: {text_2}\"},\n",
    "        ],\n",
    "        temperature=0,\n",
    "        logit_bias={13022: 1, 3160: 1},\n",
    "        logprobs=True,\n",
    "        max_tokens=1,\n",
    "    )\n",
    "    return response\n",
    "\n",
    "\n",
    "text_1 = \"\"\"\n",
    "The Xbox 360 is a home video game console developed by Microsoft. As the successor to the original Xbox, it is the second console in the Xbox series. It competed with Sony's PlayStation 3 and Nintendo's Wii as part of the seventh generation of video game consoles. It was officially unveiled on MTV on May 12, 2005, with detailed launch and game information announced later that month at the 2005 Electronic Entertainment Expo (E3). This photograph shows the \"Pro\" model from the launch line-up, which featured a 20GB hard drive, wireless controller and a silver DVD bezel. \n",
    "\"\"\"\n",
    "\n",
    "text_2 = \"\"\"\n",
    "My name is Dylan\n",
    "\"\"\"\n",
    "\n",
    "response = get_response(text_1, text_2)\n",
    "print(response)"
   ]
  }
 ],
 "metadata": {
  "kernelspec": {
   "display_name": ".venv",
   "language": "python",
   "name": "python3"
  },
  "language_info": {
   "codemirror_mode": {
    "name": "ipython",
    "version": 3
   },
   "file_extension": ".py",
   "mimetype": "text/x-python",
   "name": "python",
   "nbconvert_exporter": "python",
   "pygments_lexer": "ipython3",
   "version": "3.13.2"
  }
 },
 "nbformat": 4,
 "nbformat_minor": 2
}
